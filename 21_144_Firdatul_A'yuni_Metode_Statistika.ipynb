{
  "nbformat": 4,
  "nbformat_minor": 0,
  "metadata": {
    "colab": {
      "name": "21-144_Firdatul A'yuni_Metode Statistika.ipynb",
      "provenance": [],
      "collapsed_sections": [],
      "authorship_tag": "ABX9TyMOcLr5WgTXbTk6rkUMG5Q5",
      "include_colab_link": true
    },
    "kernelspec": {
      "name": "python3",
      "display_name": "Python 3"
    },
    "language_info": {
      "name": "python"
    }
  },
  "cells": [
    {
      "cell_type": "markdown",
      "metadata": {
        "id": "view-in-github",
        "colab_type": "text"
      },
      "source": [
        "<a href=\"https://colab.research.google.com/github/Firdatulayuni/21-144-Firdatul-A-yuni_Metode-Statistika/blob/main/21_144_Firdatul_A'yuni_Metode_Statistika.ipynb\" target=\"_parent\"><img src=\"https://colab.research.google.com/assets/colab-badge.svg\" alt=\"Open In Colab\"/></a>"
      ]
    },
    {
      "cell_type": "markdown",
      "source": [
        "# **1. EKSPONENTIAL SMOOTHING**"
      ],
      "metadata": {
        "id": "BFNzzgRNAhcq"
      }
    },
    {
      "cell_type": "markdown",
      "source": [
        "xponential smoothing atau dalam bahasa Indonesia disebut dengan Penghalusan Eksponensial adalah suatu metode peramalan rata-rata bergerak yang memberikan bobot secara eksponensial atau bertingkat pada data-data terbarunya sehingga data-data terbaru tersebut akan mendapatkan bobot yang lebih besar. Dengan kata lain, semakin baru atau semakin kini datanya, semakin besar pula bobotnya. Hal ini dikarenakan data yang terbaru dianggap lebih relavan sehingga diberikan bobot yang lebih besar. Parameter penghalusan (smoothing) biasanya dilambangkan dengan α (alpha)."
      ],
      "metadata": {
        "id": "5cVkK-tAAtsm"
      }
    },
    {
      "cell_type": "markdown",
      "source": [
        "**Pengertian Exponential Smoothing menurut para Ahli**"
      ],
      "metadata": {
        "id": "LcGB0Cw14nmD"
      }
    },
    {
      "cell_type": "markdown",
      "source": [
        "\n",
        "*   Menurut Render dan Heizer (2005), Penghalusan exponential adalah teknik peramalan rata-rata bergerak dengan pembobotan dimana data diberi bobot oleh sebuah fungsi exponential.\n",
        "\n",
        "*   Menurut Trihendradi (2005), analisis exponential smoothing merupakan salah satu analisis deret waktu, dan merupakan metode peramalan dengan memberi nilai pembobot pada serangkaian pengamatan sebelumnya untuk memprediksi nilai masa depan\n",
        "\n",
        "\n",
        "*   Menurut T. Hani Handoko (2011), Exponential Smoothing adalah suatu tipe teknik peramalan rata-rata bergerak yang melakukan penimbangan terhadap data masa lalu dengan cara eksponensial sehingga data paling akhir mempunyai bobot atau timbangan lebih besar dalam rata-rata bergerak.\n",
        "\n",
        "Metode exponential smoothing adalah metode yang menunjukkan pembobotan menurun secara eksponensial terhadap nilai pengamatan yang lebih lama. Terdapat satu atau lebih parameter penulisan yang ditentukan secara eksplisit, dan hasil pilihan ini menentukan bobot yang dikenakan pada nilai observasi. \n",
        "\n",
        "Metode pemulusan eksponensial tunggal (Single Exponential Smoothing/SES) minimal membutuhkan dua buah data untuk meramalkan nilai yang akan terjadi pada masa yang akan datang. Misalkan pengamatan yang lama Xt-N tidak tersedia sehingga harus digantikan dengan nilai pendekatan. Salah satu pengganti yang mungkin adalah nilai peramalan periode sebelumnya Ft.\n",
        "\n",
        "\n",
        "\n",
        "\n",
        "\n"
      ],
      "metadata": {
        "id": "k6-452pd4s8o"
      }
    },
    {
      "cell_type": "markdown",
      "source": [
        "**Rumus Exponential Smoothing (Penghalusan Eksponensial)**"
      ],
      "metadata": {
        "id": "KBtBXzS26rEb"
      }
    },
    {
      "cell_type": "markdown",
      "source": [
        "Ft = Ft – 1 + α (Dt-1 – Ft-1)\n",
        "\n",
        "Dimana :\n",
        "\n",
        "Ft = Prakiraan Permintaan sekarang\n",
        "\n",
        "Ft-1 = Prakiraan Permintaan yang lalu\n",
        "\n",
        "α = Konstanta Eksponensial\n",
        "\n",
        "Dt-1 = Permintaan Nyata\n",
        "\n",
        "Nilai konstanta dapat ditentukan dengan cara trial dan error (coba-coba). Namun dapat juga menggunakan rumus dibawah ini :\n",
        "\n",
        "α= 2 / (n + 1)\n",
        "\n",
        "Dimana :\n",
        "\n",
        "Α = nilai Konstanta\n",
        "n = jumlah periode waktu\n",
        "\n",
        "Contoh :\n",
        "\n",
        "Bila data terdiri dari 9 bulan, maka α dapat diperoleh dengan menggunakan perhitungan sebagai berikut :\n",
        "\n",
        "α= 2 / (n + 1)\n",
        "\n",
        "α= 2 / (9 + 1)\n",
        "\n",
        "α= 2 / 10\n",
        "\n",
        "α= 0,2\n",
        "\n",
        "Jadi nilai konstanta yang dapat kita gunakan adalah 0,2."
      ],
      "metadata": {
        "id": "KfCdaWxp607L"
      }
    },
    {
      "cell_type": "markdown",
      "source": [
        "**Contoh Kasus**"
      ],
      "metadata": {
        "id": "3x_r1UyqbnWR"
      }
    },
    {
      "cell_type": "markdown",
      "source": [
        "Seorang usahawan yang menjual sepatu ingin membuat perkiraan penjualan produknya di pasar. Metode yang digunakan adalah metode Penghalusan Eksponensial atau Exponential Smoothing. Perusahaan tersebut menggunakan Konstanta α = 0,8 dan α = 0,1\n"
      ],
      "metadata": {
        "id": "lF4uowsUcFmh"
      }
    },
    {
      "cell_type": "markdown",
      "source": [
        ""
      ],
      "metadata": {
        "id": "L22pPDVybs4P"
      }
    },
    {
      "cell_type": "code",
      "source": [
        "from google.colab import files\n",
        "uploaded = files.upload()"
      ],
      "metadata": {
        "colab": {
          "resources": {
            "http://localhost:8080/nbextensions/google.colab/files.js": {
              "data": "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",
              "ok": true,
              "headers": [
                [
                  "content-type",
                  "application/javascript"
                ]
              ],
              "status": 200,
              "status_text": ""
            }
          },
          "base_uri": "https://localhost:8080/",
          "height": 73
        },
        "id": "yAP6xszy6nCk",
        "outputId": "b4126c82-e1a8-4881-add7-12be3ba70250"
      },
      "execution_count": 29,
      "outputs": [
        {
          "output_type": "display_data",
          "data": {
            "text/plain": [
              "<IPython.core.display.HTML object>"
            ],
            "text/html": [
              "\n",
              "     <input type=\"file\" id=\"files-e7e4fc5f-626c-4827-97cb-c5a78186aab4\" name=\"files[]\" multiple disabled\n",
              "        style=\"border:none\" />\n",
              "     <output id=\"result-e7e4fc5f-626c-4827-97cb-c5a78186aab4\">\n",
              "      Upload widget is only available when the cell has been executed in the\n",
              "      current browser session. Please rerun this cell to enable.\n",
              "      </output>\n",
              "      <script src=\"/nbextensions/google.colab/files.js\"></script> "
            ]
          },
          "metadata": {}
        },
        {
          "output_type": "stream",
          "name": "stdout",
          "text": [
            "Saving pengeluaran-uang-tabungan(1).csv to pengeluaran-uang-tabungan(1) (2).csv\n"
          ]
        }
      ]
    },
    {
      "cell_type": "code",
      "source": [
        "#import library\n",
        "import pandas as pd\n",
        "import numpy as np\n",
        "import matplotlib.pyplot as plt\n",
        " \n",
        "\n",
        "#import ke pandas\n",
        "yes = pd.read_csv('pengeluaran-uang-tabungan(1) (2).csv')\n",
        "yes['Bulan'] = pd.to_datetime(yes['Bulan'])\n",
        "print(yes.to_string())"
      ],
      "metadata": {
        "colab": {
          "base_uri": "https://localhost:8080/"
        },
        "id": "My6iuLFm6mF7",
        "outputId": "f39ee2c5-369f-4a9c-9868-34d447917f7b"
      },
      "execution_count": 31,
      "outputs": [
        {
          "output_type": "stream",
          "name": "stdout",
          "text": [
            "         Bulan  pengeluaran (bulan)  Prediksi(a=0.1)  Prediksi(a=0.8)\n",
            "0   2003-01-03                 10.0              NaN              NaN\n",
            "1   2003-01-04                 20.0        10.000000        10.000000\n",
            "2   2003-01-05                 30.0        19.000000        12.000000\n",
            "3   2003-01-06                 40.0        28.900000        15.600000\n",
            "4   2003-01-07                 50.0        38.890000        20.480000\n",
            "5   2003-01-08                 60.0        48.889000        26.384000\n",
            "6   2003-01-09                 70.0        58.888900        33.107200\n",
            "7   2003-01-10                 80.0        68.888890        40.485760\n",
            "8   2003-01-11                 90.0        78.888889        48.388608\n",
            "9   2003-01-12                100.0        88.888889        56.710886\n",
            "10  2004-01-01                110.0        98.888889        65.368709\n",
            "11  2004-01-02                120.0       108.888889        74.294967\n",
            "12  2004-01-03                130.0       118.888889        83.435974\n",
            "13  2004-01-04                140.0       128.888889        92.748779\n",
            "14  2004-01-05                150.0       138.888889       102.199023\n",
            "15  2004-01-06                160.0       148.888889       111.759219\n",
            "16  2004-01-07                180.0       158.888889       121.407375\n",
            "17  2004-01-08                190.0       177.888889       133.125900\n",
            "18  2004-01-09                200.0       188.788889       144.500720\n",
            "19  2004-01-10                190.0       198.878889       155.600576\n",
            "20  2004-01-11                180.0       190.887889       162.480461\n",
            "21  2004-01-12                170.0       181.088789       165.984369\n",
            "22  2005-01-01                150.0       171.108879       166.787495\n",
            "23  2005-01-02                389.0       152.110888       163.429996\n",
            "24  2005-01-03                120.0       365.311089       208.543997\n",
            "25  2005-01-04                140.0       144.531109       190.835197\n",
            "26  2005-01-05                 30.0       140.453111       180.668158\n",
            "27  2005-01-06                 32.0        41.045311       150.534526\n",
            "28  2005-01-07                 25.0        32.904531       126.827621\n",
            "29  2005-01-08                 40.0        25.790453       106.462097\n",
            "30  2005-01-09                 55.0        38.579045        93.169677\n",
            "31  2005-01-10                 45.0        53.357905        85.535742\n",
            "32  2005-01-11                200.0        45.835790        77.428594\n",
            "33  2005-01-12                150.0       184.583579       101.942875\n",
            "34  2006-01-01                160.0       153.458358       111.554300\n",
            "35  2006-01-02                190.0       159.345836       121.243440\n",
            "36  2006-01-03                400.0       186.934584       134.994752\n",
            "37  2006-01-04                410.0       378.693458       187.995801\n",
            "38  2006-01-05                420.0       406.869346       232.396641\n",
            "39  2006-01-06                430.0       418.686935       269.917313\n",
            "40  2006-01-07                450.0       428.868694       301.933850\n",
            "41  2006-01-08                460.0       447.886869       331.547080\n",
            "42  2006-01-09                470.0       458.788687       357.237664\n",
            "43  2006-01-10                480.0       468.878869       379.790131\n",
            "44  2006-01-11                490.0       478.887887       399.832105\n",
            "45  2006-01-12                500.0       488.888789       417.865684\n",
            "46  2007-01-01                480.0       498.888879       434.292547\n",
            "47  2007-01-02                486.0       481.888888       443.434038\n",
            "48  2007-01-03                470.0       485.588889       451.947230\n",
            "49  2007-01-04                460.0       471.558889       455.557784\n",
            "50  2007-01-05                325.0       461.155889       456.446227\n",
            "51  2007-01-06                450.0       338.615589       430.156982\n",
            "52  2007-01-07                150.0       438.861559       434.125585\n",
            "53  2007-01-08                100.0       178.886156       377.300468\n",
            "54  2007-01-09                200.0       107.888616       321.840375\n",
            "55  2007-01-10                270.0       190.788862       297.472300\n",
            "56  2007-01-11                300.0       262.078886       291.977840\n",
            "57  2007-01-12                400.0       296.207889       293.582272\n",
            "58  2008-01-01                325.0       389.620789       314.865817\n",
            "59  2008-01-02                250.0       331.462079       316.892654\n",
            "60  2008-01-03                400.0       258.146208       303.514123\n",
            "61  2008-01-04                550.0       385.814621       322.811299\n",
            "62  2008-01-05                450.0       533.581462       368.249039\n",
            "63  2008-01-06                225.0       458.358146       384.599231\n",
            "64  2008-01-07                250.0       248.335815       352.679385\n",
            "65  2008-01-08                300.0       249.833582       332.143508\n",
            "66  2008-01-09                350.0       294.983358       325.714806\n",
            "67  2008-01-10                500.0       344.498336       330.571845\n",
            "68  2008-01-11                500.0       484.449834       364.457476\n",
            "69  2008-01-12                425.0       498.444983       391.565981\n",
            "70  2009-01-01                300.0       432.344498       398.252785\n",
            "71  2009-01-02                250.0       313.234450       378.602228\n",
            "72  2009-01-03                350.0       256.323445       352.881782\n",
            "73  2009-01-04                375.0       340.632344       352.305426\n",
            "74  2009-01-05                325.0       371.563234       356.844341\n",
            "75  2009-01-06                450.0       329.656323       350.475473\n",
            "76  2009-01-07                300.0       437.965632       370.380378\n",
            "77  2009-01-08                275.0       313.796563       356.304302\n",
            "78  2009-01-09                225.0       278.879656       340.043442\n",
            "79  2009-01-10                300.0       230.387966       317.034754\n",
            "80  2009-01-11                325.0       293.038797       313.627803\n",
            "81  2009-01-12                250.0       321.803880       315.902242\n",
            "82  2010-01-01                275.0       257.180388       302.721794\n",
            "83  2010-01-02                300.0       273.218039       297.177435\n",
            "84  2010-01-03                400.0       297.321804       297.741948\n",
            "85  2010-01-04                425.0       389.732180       318.193558\n",
            "86  2010-01-05                550.0       421.473218       339.554847\n",
            "87  2010-01-06                250.0       537.147322       381.643877\n",
            "88  2010-01-07                300.0       278.714732       355.315102\n",
            "89  2010-01-08                250.0       297.871473       344.252081\n",
            "90  2010-01-09                235.0       254.787147       325.401665\n",
            "91  2010-01-10                400.0       236.978715       307.321332\n",
            "92  2010-01-11                450.0       383.697872       325.857066\n",
            "93  2010-01-12                375.0       443.369787       350.685653\n",
            "94  2011-01-01                600.0       381.836979       355.548522\n",
            "95  2011-01-02                575.0       578.183698       404.438818\n",
            "96  2011-01-03                700.0       575.318370       438.551054\n",
            "97  2011-01-04                828.0       687.531837       490.840843\n",
            "98  2011-01-05                650.0       813.953184       558.272675\n",
            "99  2011-01-06                550.0       666.395318       576.618140\n",
            "100 2011-01-07                800.0       561.639532       571.294512\n",
            "101 2011-01-08                725.0       776.163953       617.035609\n",
            "102 2011-01-09                675.0       730.116395       638.628488\n",
            "103 2011-01-10                900.0       680.511640       645.902790\n",
            "104 2011-01-11                500.0       878.051164       696.722232\n",
            "105 2011-01-12                625.0       537.805116       657.377786\n",
            "106 2012-01-01                550.0       616.280512       650.902228\n",
            "107 2012-01-02                800.0       556.628051       630.721783\n",
            "108 2012-01-03                750.0       775.662805       664.577426\n",
            "109 2012-01-04                950.0       752.566280       681.661941\n",
            "110 2012-01-05                850.0       930.256628       735.329553\n",
            "111 2012-01-06                650.0       858.025663       758.263642\n",
            "112 2012-01-07                605.0       670.802566       736.610914\n",
            "113 2012-01-08                625.0       611.580257       710.288731\n",
            "114 2012-01-09                675.0       623.658026       693.230985\n",
            "115 2012-01-10                700.0       669.865803       689.584788\n",
            "116 2012-01-11                925.0       696.986580       691.667830\n",
            "117 2012-01-12                800.0       902.198658       738.334264\n",
            "118 2013-01-01                725.0       810.219866       750.667411\n",
            "119 2013-01-02                675.0       733.521987       745.533929\n",
            "120 2013-01-03                650.0       680.852199       731.427143\n",
            "121 2013-01-04                550.0       653.085220       715.141715\n",
            "122 2013-01-05                525.0       560.308522       682.113372\n",
            "123 2013-01-06                700.0       528.530852       650.690697\n",
            "124 2013-01-07                825.0       682.853085       660.552558\n",
            "125 2013-01-08                650.0       810.785309       693.442046\n",
            "126 2013-01-09                800.0       666.078531       684.753637\n",
            "127 2013-01-10                725.0       786.607853       707.802910\n",
            "128 2013-01-11                675.0       731.160785       711.242328\n",
            "129 2013-01-12                900.0       680.616078       703.993862\n",
            "130 2014-01-01                600.0       878.061608       743.195090\n",
            "131 2014-01-02                570.0       627.806161       714.556072\n",
            "132 2014-01-03                700.0       575.780616       685.644857\n",
            "133 2014-01-04                825.0       687.578062       688.515886\n",
            "134 2014-01-05                650.0       811.257806       715.812709\n",
            "135 2014-01-06                950.0       666.125781       702.650167\n",
            "136 2014-01-07                850.0       921.612578       752.120134\n",
            "137 2014-01-08                650.0       857.161258       771.696107\n",
            "138 2014-01-09                600.0       670.716126       747.356885\n",
            "139 2014-01-10                700.0       607.071613       717.885508\n",
            "140 2014-01-11                925.0       690.707161       714.308407\n",
            "141 2014-01-12                800.0       901.570716       756.446725\n",
            "142 2015-01-01                725.0       810.157072       765.157380\n",
            "143 2015-01-02                800.0       733.515707       757.125904\n",
            "144 2015-01-03                750.0       793.351571       765.700723\n",
            "145 2015-01-04                950.0       754.335157       762.560579\n",
            "146 2015-01-05                650.0       930.433516       800.048463\n",
            "147 2015-01-06                600.0       678.043352       770.038770\n",
            "148 2015-01-07                625.0       607.804335       736.031016\n",
            "149 2015-01-08                675.0       623.280433       713.824813\n",
            "150 2015-01-09                950.0       669.828043       706.059850\n",
            "151 2015-01-10                850.0       921.982804       754.847880\n",
            "152 2015-01-11                650.0       857.198280       773.878304\n",
            "153 2015-01-12                600.0       670.719828       749.102643\n",
            "154 2016-01-01                700.0       607.071983       719.282115\n",
            "155 2016-01-02                925.0       690.707198       715.425692\n",
            "156 2016-01-03                800.0       901.570720       757.340553\n",
            "157 2016-01-04                725.0       810.157072       765.872443\n",
            "158 2016-01-05                800.0       733.515707       757.697954\n",
            "159 2016-01-06                750.0       793.351571       766.158363\n",
            "160 2016-01-07                950.0       754.335157       762.926691\n",
            "161 2016-01-08                650.0       930.433516       800.341352\n",
            "162 2016-01-09                725.0       678.043352       770.273082\n",
            "163 2016-01-10                678.0       720.304335       761.218466\n",
            "164 2016-01-11                650.0       682.230434       744.574772\n",
            "165 2016-01-12                550.0       653.223043       725.659818\n",
            "166 2017-01-01                525.0       560.322304       690.527854\n",
            "167 2017-01-02                700.0       528.532230       657.422284\n",
            "168 2017-01-03                675.0       682.853223       665.937827\n",
            "169 2017-01-04                800.0       675.785322       667.750261\n",
            "170 2017-01-05                975.0       787.578532       694.200209\n",
            "171 2017-01-06                775.0       956.257853       750.360167\n",
            "172 2017-01-07                600.0       793.125785       755.288134\n",
            "173 2017-01-08                575.0       619.312578       724.230507\n",
            "174 2017-01-09                700.0       579.431258       694.384406\n",
            "175 2017-01-10                828.0       687.943126       695.507525\n",
            "176 2017-01-11                650.0       813.994313       722.006020\n",
            "177 2017-01-12                550.0       666.399431       707.604816\n",
            "178 2018-01-01                625.0       561.639943       676.083853\n",
            "179 2018-01-02                675.0       618.663994       665.867082\n",
            "180 2018-01-03                950.0       669.366399       667.693666\n",
            "181 2018-01-04                850.0       921.936640       724.154932\n",
            "182 2018-01-05                650.0       857.193664       749.323946\n",
            "183 2018-01-06                600.0       670.719366       729.459157\n",
            "184 2018-01-07                525.0       607.071937       703.567325\n",
            "185 2018-01-08                700.0       533.207194       667.853860\n",
            "186 2018-01-09                675.0       683.320719       674.283088\n",
            "187 2018-01-10                800.0       675.832072       674.426471\n",
            "188 2018-01-11                975.0       787.583207       699.541177\n",
            "189 2018-01-12                775.0       956.258321       754.632941\n",
            "190 2019-01-01                725.0       793.125832       758.706353\n",
            "191 2019-01-02                800.0       731.812583       751.965082\n",
            "192 2019-01-03                750.0       793.181258       761.572066\n",
            "193 2019-01-04                950.0       754.318126       759.257653\n",
            "194 2019-01-05                650.0       930.431813       797.406122\n",
            "195 2019-01-06                600.0       678.043181       767.924898\n",
            "196 2019-01-07                625.0       607.804318       734.339918\n",
            "197 2019-01-08                675.0       623.280432       712.471935\n",
            "198 2019-01-09                950.0       669.828043       704.977548\n",
            "199 2019-01-10                850.0       921.982804       753.982038\n",
            "200 2019-01-11                650.0       857.198280       773.185631\n",
            "201 2019-01-12                600.0       670.719828       748.548504\n",
            "202 2020-01-01                775.0       607.071983       718.838804\n",
            "203 2020-01-02                600.0       758.207198       730.071043\n",
            "204 2020-01-03                800.0       615.820720       704.056834\n",
            "205 2020-01-04                750.0       781.582072       723.245467\n",
            "206 2020-01-05                100.0       753.158207       728.596374\n",
            "207 2020-01-06                105.0       165.315821       602.877099\n",
            "208 2020-01-07                900.0       111.031582       503.301679\n",
            "209 2020-01-08                825.0       821.103158       582.641343\n",
            "210 2020-01-09                650.0       824.610316       631.113075\n",
            "211 2020-01-10                800.0       667.461032       634.890460\n",
            "212 2020-01-11                925.0       786.746103       667.912368\n",
            "213 2020-01-12                700.0       911.174610       719.329894\n",
            "214 2021-01-01                115.0       721.117461       715.463915\n",
            "215 2021-01-02                102.0       175.611746       595.371132\n",
            "216 2021-01-03                130.0       109.361175       496.696906\n",
            "217 2021-01-04                405.0       127.936117       423.357525\n",
            "218 2021-01-05                435.0       377.293612       419.686020\n",
            "219 2021-01-06                600.0       429.229361       422.748816\n",
            "220 2021-01-07                678.0       582.922936       458.199053\n",
            "221 2021-01-08                450.0       668.492294       502.159242\n",
            "222 2021-01-09                535.0       471.849229       491.727394\n",
            "223 2021-01-10                645.0       528.684923       500.381915\n",
            "224 2021-01-11                740.0       633.368492       529.305532\n",
            "225 2021-01-12                525.0       729.336849       571.444426\n",
            "226 2022-01-01                327.0       545.433685       562.155541\n",
            "227 2022-01-02                537.0       348.843368       515.124432\n",
            "228 2022-01-03                545.0       518.184337       519.499546\n",
            "229 2022-01-04                800.0       542.318434       524.599637\n",
            "230 2022-01-05                890.0       774.231843       579.679709\n",
            "231 2022-01-06                700.0       878.423184       641.743767\n",
            "232 2022-01-07                  NaN       717.842318       653.395014\n"
          ]
        }
      ]
    },
    {
      "cell_type": "code",
      "source": [
        "plt.plot(yes['Bulan'],yes['pengeluaran (bulan)'],label='pengeluaran (bulan)')\n",
        "plt.plot(yes['Bulan'],yes['Prediksi(a=0.1)'],label=' Prediksi(α=0,1)')\n",
        "plt.plot(yes['Bulan'],yes['Prediksi(a=0.8)'],label=' Prediksi(α=0,8)')\n",
        "plt.xlabel('Tahun')\n",
        "plt.ylabel('Prediksi data dengan Moving Average')\n",
        "plt.title('Data penjualan sepatu (bulan) 2003-2022')\n",
        "plt.grid(True)\n",
        "plt.legend()"
      ],
      "metadata": {
        "colab": {
          "base_uri": "https://localhost:8080/",
          "height": 312
        },
        "id": "t0ikxzAB7Ps6",
        "outputId": "565a6bbe-f72a-4015-b330-27296608f14a"
      },
      "execution_count": 34,
      "outputs": [
        {
          "output_type": "execute_result",
          "data": {
            "text/plain": [
              "<matplotlib.legend.Legend at 0x7f1e78e4bb10>"
            ]
          },
          "metadata": {},
          "execution_count": 34
        },
        {
          "output_type": "display_data",
          "data": {
            "text/plain": [
              "<Figure size 432x288 with 1 Axes>"
            ],
            "image/png": "[encoded data removed]"
          },
          "metadata": {
            "needs_background": "light"
          }
        }
      ]
    },
    {
      "cell_type": "markdown",
      "source": [
        "# **2. MOVING AVERAGE METHOD**"
      ],
      "metadata": {
        "id": "bDTWaH2rCYGh"
      }
    },
    {
      "cell_type": "markdown",
      "source": [
        "**pengertian**"
      ],
      "metadata": {
        "id": "tnp4UCyQHHl2"
      }
    },
    {
      "cell_type": "markdown",
      "source": [
        "Moving average merupakan metode yang paling sering digunakan dan paling standar. Moving average adalah suatu metode peramalan umum dan mudah untuk menggunakan alat-alat yang tersedia untuk analisis teknik. Moving average menyediakan metode sederhana untuk pemulusan data masa lalu. Metode ini berguna untuk peramalan ketika tidak terjadi tren, gunakan estimasi berbeda untuk mempertimbangkanya. \n",
        "\n",
        "Hal ini disebut dengan “bergerak” karena sebagai data baru yang tersedia, data yang tertua tidak digunakan lagi. Peramalan dengan teknik moving average melakukan perhitungan terhadap nilai data yang paling baru sedangkan data yang tua/lama akan dihapus. Nilai rata-rata dihitung berdasarkan jumlah data, yang angka rata-rata bergeraknya ditentukan dari harga 1 sampai nilai N data yang dimiliki.\n",
        "\n",
        "Moving average adalah metode peramalan perataan nilai dengan mengambil\n",
        "sekelompok nilai pengamatan yang kemudian dicari rata-ratanya, lalu menggunakan\n",
        "rata-rata tersebut sebagai ramalan untuk periode berikutnya. Istilah rata-rata\n",
        "bergerak digunakan karena setiap kali muncul data observasi baru, nilai rata-rata\n",
        "baru dapat dihitung dengan membuang nilai observasi yang paling lama dan\n",
        "memasukkan nilai observasi yang terbaru [4, h. 6]. Rata-rata bergerak ini kemudian\n",
        "akan menjadi ramalan untuk periode mendatang. \n",
        "\n",
        "Metode ini sering digunakan\n",
        "pada data kuartalan atau bulanan untuk membantu mengamati komponen\n",
        "komponen suatu runtun waktu. Semakin besar orde rata-rata bergerak, semakin\n",
        "besar pula pengaruh pemulusan (smoothing).\n"
      ],
      "metadata": {
        "id": "IG6l7hcdDLaP"
      }
    },
    {
      "cell_type": "markdown",
      "source": [
        "**Rumus Moving Average**"
      ],
      "metadata": {
        "id": "pdjvItF-FkuI"
      }
    },
    {
      "cell_type": "markdown",
      "source": [
        "Rumus Moving Average atau Rata-rata Bergerak adalah sebagai berikut :\n",
        "\n",
        "MA = ΣX / Jumlah Periode\n",
        "\n",
        "Keterangan :\n",
        "\n",
        "MA = Moving Average\n",
        "\n",
        "ΣX = Keseluruhan Penjumlahan dari semua data periode waktu yang diperhitungkan\n",
        "\n",
        "Jumlah Periode = Jumlah Periode Rata-rata bergerak\n",
        "\n",
        "Atau dapat ditulis dengan :\n",
        "\n",
        "MA = (n1 + n2 + n3 + …) / n\n",
        "\n",
        "Keterangan :\n",
        "\n",
        "MA = Moving Average\n",
        "\n",
        "n1 = data periode pertama\n",
        "\n",
        "n2 = data periode kedua\n",
        "\n",
        "n3 = data periode ketiga dan seterusnya\n",
        "\n",
        "n = Jumlah Periode Rata-rata bergerak"
      ],
      "metadata": {
        "id": "69zDqUZ-Ftp1"
      }
    },
    {
      "cell_type": "markdown",
      "source": [
        "**Contoh kasus**"
      ],
      "metadata": {
        "id": "KU-V2gThcdkW"
      }
    },
    {
      "cell_type": "markdown",
      "source": [
        "Seorang usahawan yang menjual sepatu ingin membuat perkiraan penjualan produknya di pasar. Metode yang digunakan adalah metode Penghalusan Eksponensial atau Exponential Smoothing. Perusahaan tersebut menggunakan periode per 3 bulan"
      ],
      "metadata": {
        "id": "U0iV18drcoNt"
      }
    },
    {
      "cell_type": "markdown",
      "source": [
        ""
      ],
      "metadata": {
        "id": "6_uTACqech87"
      }
    },
    {
      "cell_type": "code",
      "source": [
        "from google.colab import files\n",
        "uploaded = files.upload()"
      ],
      "metadata": {
        "colab": {
          "resources": {
            "http://localhost:8080/nbextensions/google.colab/files.js": {
              "data": "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",
              "ok": true,
              "headers": [
                [
                  "content-type",
                  "application/javascript"
                ]
              ],
              "status": 200,
              "status_text": ""
            }
          },
          "base_uri": "https://localhost:8080/",
          "height": 73
        },
        "id": "7I5iROanRC-Y",
        "outputId": "4f6175cb-5a8b-417d-b5c7-5a6c99308883"
      },
      "execution_count": null,
      "outputs": [
        {
          "output_type": "display_data",
          "data": {
            "text/plain": [
              "<IPython.core.display.HTML object>"
            ],
            "text/html": [
              "\n",
              "     <input type=\"file\" id=\"files-280a59f1-e77f-49ac-87ae-59efe2096d9f\" name=\"files[]\" multiple disabled\n",
              "        style=\"border:none\" />\n",
              "     <output id=\"result-280a59f1-e77f-49ac-87ae-59efe2096d9f\">\n",
              "      Upload widget is only available when the cell has been executed in the\n",
              "      current browser session. Please rerun this cell to enable.\n",
              "      </output>\n",
              "      <script src=\"/nbextensions/google.colab/files.js\"></script> "
            ]
          },
          "metadata": {}
        },
        {
          "output_type": "stream",
          "name": "stdout",
          "text": [
            "Saving penjualan-sepatu-moving(1).csv to penjualan-sepatu-moving(1) (1).csv\n"
          ]
        }
      ]
    },
    {
      "cell_type": "code",
      "source": [
        "#import library\n",
        "import pandas as pd\n",
        "import numpy as np\n",
        "import matplotlib.pyplot as plt\n",
        " \n",
        "\n",
        "#import ke pandas\n",
        "yes = pd.read_csv('penjualan-sepatu-moving(1).csv')\n",
        "yes['Bulan'] = pd.to_datetime(yes['Bulan'])\n",
        "print(yes.to_string())"
      ],
      "metadata": {
        "colab": {
          "base_uri": "https://localhost:8080/"
        },
        "id": "Nne2PcjqRO9G",
        "outputId": "ab786492-bd03-4b49-df06-14301bf92fab"
      },
      "execution_count": null,
      "outputs": [
        {
          "output_type": "stream",
          "name": "stdout",
          "text": [
            "         Bulan  Penjualan Sepatu  prediksi\n",
            "0   2003-01-01              20.0       NaN\n",
            "1   2003-01-02              15.0       NaN\n",
            "2   2003-01-03              17.0      17.0\n",
            "3   2003-01-04              18.0      17.0\n",
            "4   2003-01-05              20.0      18.0\n",
            "5   2003-01-06              15.0      18.0\n",
            "6   2003-01-07              20.0      18.0\n",
            "7   2003-01-08              25.0      20.0\n",
            "8   2003-01-09              23.0      23.0\n",
            "9   2003-01-10              20.0      23.0\n",
            "10  2003-01-11              18.0      20.0\n",
            "11  2003-01-12              25.0      21.0\n",
            "12  2004-01-01              26.0      23.0\n",
            "13  2004-01-02              30.0      27.0\n",
            "14  2004-01-03              45.0      34.0\n",
            "15  2004-01-04              35.0      37.0\n",
            "16  2004-01-05              37.0      39.0\n",
            "17  2004-01-06              40.0      37.0\n",
            "18  2004-01-07              45.0      41.0\n",
            "19  2004-01-08              48.0      44.0\n",
            "20  2004-01-09              30.0      41.0\n",
            "21  2004-01-10              25.0      34.0\n",
            "22  2004-01-11              20.0      25.0\n",
            "23  2004-01-12              39.0      28.0\n",
            "24  2005-01-01              65.0      41.0\n",
            "25  2005-01-02              50.0      51.0\n",
            "26  2005-01-03              45.0      53.0\n",
            "27  2005-01-04              43.0      46.0\n",
            "28  2005-01-05              27.0      38.0\n",
            "29  2005-01-06              18.0      29.0\n",
            "30  2005-01-07              20.0      22.0\n",
            "31  2005-01-08              29.0      22.0\n",
            "32  2005-01-09              30.0      26.0\n",
            "33  2005-01-10              34.0      31.0\n",
            "34  2005-01-11              45.0      36.0\n",
            "35  2005-01-12              40.0      40.0\n",
            "36  2006-01-01              30.0      38.0\n",
            "37  2006-01-02              37.0      36.0\n",
            "38  2006-01-03              45.0      37.0\n",
            "39  2006-01-04              49.0      44.0\n",
            "40  2006-01-05              30.0      41.0\n",
            "41  2006-01-06              32.0      37.0\n",
            "42  2006-01-07              17.0      26.0\n",
            "43  2006-01-08              18.0      22.0\n",
            "44  2006-01-09              23.0      19.0\n",
            "45  2006-01-10              25.0      22.0\n",
            "46  2006-01-11              50.0      33.0\n",
            "47  2006-01-12              57.0      44.0\n",
            "48  2007-01-01              50.0      52.0\n",
            "49  2007-01-02              65.0      57.0\n",
            "50  2007-01-03              55.0      57.0\n",
            "51  2007-01-04              45.0      55.0\n",
            "52  2007-01-05              40.0      47.0\n",
            "53  2007-01-06              48.0      44.0\n",
            "54  2007-01-07              50.0      46.0\n",
            "55  2007-01-08              34.0      44.0\n",
            "56  2007-01-09              40.0      41.0\n",
            "57  2007-01-10              45.0      40.0\n",
            "58  2007-01-11              70.0      52.0\n",
            "59  2007-01-12              75.0      63.0\n",
            "60  2008-01-01              80.0      75.0\n",
            "61  2008-01-02              58.0      71.0\n",
            "62  2008-01-03              47.0      62.0\n",
            "63  2008-01-04              40.0      48.0\n",
            "64  2008-01-05              55.0      47.0\n",
            "65  2008-01-06              60.0      52.0\n",
            "66  2008-01-07              30.0      48.0\n",
            "67  2008-01-08              35.0      42.0\n",
            "68  2008-01-09              38.0      34.0\n",
            "69  2008-01-10              32.0      35.0\n",
            "70  2008-01-11              20.0      30.0\n",
            "71  2008-01-12              25.0      26.0\n",
            "72  2009-01-01              27.0      24.0\n",
            "73  2009-01-02              34.0      29.0\n",
            "74  2009-01-03              38.0      33.0\n",
            "75  2009-01-04              48.0      40.0\n",
            "76  2009-01-05              56.0      47.0\n",
            "77  2009-01-06              43.0      49.0\n",
            "78  2009-01-07              50.0      50.0\n",
            "79  2009-01-08              45.0      46.0\n",
            "80  2009-01-09              50.0      48.0\n",
            "81  2009-01-10              65.0      53.0\n",
            "82  2009-01-11              87.0      67.0\n",
            "83  2009-01-12              68.0      73.0\n",
            "84  2010-01-01              78.0      78.0\n",
            "85  2010-01-02              89.0      78.0\n",
            "86  2010-01-03              90.0      86.0\n",
            "87  2010-01-04              78.0      86.0\n",
            "88  2010-01-05              60.0      76.0\n",
            "89  2010-01-06              57.0      65.0\n",
            "90  2010-01-07              55.0      57.0\n",
            "91  2010-01-08              60.0      57.0\n",
            "92  2010-01-09              63.0      59.0\n",
            "93  2010-01-10              62.0      62.0\n",
            "94  2010-01-11              70.0      65.0\n",
            "95  2010-01-12              45.0      59.0\n",
            "96  2011-01-01              24.0      46.0\n",
            "97  2011-01-02              20.0      30.0\n",
            "98  2011-01-03              28.0      24.0\n",
            "99  2011-01-04              29.0      26.0\n",
            "100 2011-01-05              40.0      32.0\n",
            "101 2011-01-06              55.0      41.0\n",
            "102 2011-01-07              50.0      48.0\n",
            "103 2011-01-08              57.0      54.0\n",
            "104 2011-01-09              45.0      51.0\n",
            "105 2011-01-10              34.0      45.0\n",
            "106 2011-01-11              40.0      40.0\n",
            "107 2011-01-12              45.0      40.0\n",
            "108 2012-01-01              54.0      46.0\n",
            "109 2012-01-02              90.0      63.0\n",
            "110 2012-01-03              98.0      81.0\n",
            "111 2012-01-04              78.0      89.0\n",
            "112 2012-01-05             100.0      92.0\n",
            "113 2012-01-06              68.0      82.0\n",
            "114 2012-01-07              76.0      81.0\n",
            "115 2012-01-08              47.0      64.0\n",
            "116 2012-01-09              80.0      68.0\n",
            "117 2012-01-10              87.0      71.0\n",
            "118 2012-01-11              88.0      85.0\n",
            "119 2012-01-12              58.0      78.0\n",
            "120 2013-01-01              86.0      77.0\n",
            "121 2013-01-02              23.0      56.0\n",
            "122 2013-01-03              34.0      48.0\n",
            "123 2013-01-04              45.0      34.0\n",
            "124 2013-01-05              56.0      45.0\n",
            "125 2013-01-06              67.0      56.0\n",
            "126 2013-01-07              78.0      67.0\n",
            "127 2013-01-08              90.0      78.0\n",
            "128 2013-01-09              98.0      89.0\n",
            "129 2013-01-10              76.0      88.0\n",
            "130 2013-01-11              65.0      80.0\n",
            "131 2013-01-12              45.0      62.0\n",
            "132 2014-01-01              54.0      55.0\n",
            "133 2014-01-02              34.0      44.0\n",
            "134 2014-01-03              67.0      52.0\n",
            "135 2014-01-04              80.0      60.0\n",
            "136 2014-01-05              50.0      66.0\n",
            "137 2014-01-06              58.0      63.0\n",
            "138 2014-01-07              55.0      54.0\n",
            "139 2014-01-08              47.0      53.0\n",
            "140 2014-01-09              68.0      57.0\n",
            "141 2014-01-10              70.0      62.0\n",
            "142 2014-01-11              79.0      72.0\n",
            "143 2014-01-12              78.0      76.0\n",
            "144 2015-01-01              89.0      82.0\n",
            "145 2015-01-02              80.0      82.0\n",
            "146 2015-01-03              88.0      86.0\n",
            "147 2015-01-04              68.0      79.0\n",
            "148 2015-01-05              60.0      72.0\n",
            "149 2015-01-06              50.0      59.0\n",
            "150 2015-01-07              40.0      50.0\n",
            "151 2015-01-08              30.0      40.0\n",
            "152 2015-01-09              20.0      30.0\n",
            "153 2015-01-10              34.0      28.0\n",
            "154 2015-01-11              40.0      31.0\n",
            "155 2015-01-12              20.0      31.0\n",
            "156 2016-01-01              35.0      32.0\n",
            "157 2016-01-02              65.0      40.0\n",
            "158 2016-01-03              60.0      53.0\n",
            "159 2016-01-04              45.0      57.0\n",
            "160 2016-01-05              37.0      47.0\n",
            "161 2016-01-06              68.0      50.0\n",
            "162 2016-01-07              58.0      54.0\n",
            "163 2016-01-08              97.0      74.0\n",
            "164 2016-01-09              56.0      70.0\n",
            "165 2016-01-10              47.0      67.0\n",
            "166 2016-01-11              39.0      47.0\n",
            "167 2016-01-12               5.0      30.0\n",
            "168 2017-01-01              70.0      38.0\n",
            "169 2017-01-02              80.0      52.0\n",
            "170 2017-01-03              98.0      83.0\n",
            "171 2017-01-04              80.0      86.0\n",
            "172 2017-01-05              79.0      86.0\n",
            "173 2017-01-06              50.0      70.0\n",
            "174 2017-01-07              56.0      62.0\n",
            "175 2017-01-08              20.0      42.0\n",
            "176 2017-01-09              32.0      36.0\n",
            "177 2017-01-10              18.0      23.0\n",
            "178 2017-01-11              19.0      23.0\n",
            "179 2017-01-12              23.0      20.0\n",
            "180 2018-01-01              42.0      28.0\n",
            "181 2018-01-02              43.0      36.0\n",
            "182 2018-01-03              44.0      43.0\n",
            "183 2018-01-04              45.0      44.0\n",
            "184 2018-01-05              56.0      48.0\n",
            "185 2018-01-06              54.0      52.0\n",
            "186 2018-01-07              57.0      56.0\n",
            "187 2018-01-08              45.0      52.0\n",
            "188 2018-01-09              78.0      60.0\n",
            "189 2018-01-10              98.0      74.0\n",
            "190 2018-01-11              79.0      85.0\n",
            "191 2018-01-12              60.0      79.0\n",
            "192 2019-01-01              65.0      68.0\n",
            "193 2019-01-02              50.0      58.0\n",
            "194 2019-01-03              45.0      53.0\n",
            "195 2019-01-04              55.0      50.0\n",
            "196 2019-01-05              66.0      55.0\n",
            "197 2019-01-06              77.0      66.0\n",
            "198 2019-01-07              45.0      63.0\n",
            "199 2019-01-08             100.0      74.0\n",
            "200 2019-01-09             122.0      89.0\n",
            "201 2019-01-10             130.0     117.0\n",
            "202 2019-01-11             122.0     125.0\n",
            "203 2019-01-12             110.0     121.0\n",
            "204 2020-01-01              98.0     110.0\n",
            "205 2020-01-02              49.0      86.0\n",
            "206 2020-01-03              78.0      75.0\n",
            "207 2020-01-04              56.0      61.0\n",
            "208 2020-01-05              78.0      71.0\n",
            "209 2020-01-06              98.0      77.0\n",
            "210 2020-01-07              70.0      82.0\n",
            "211 2020-01-08              60.0      76.0\n",
            "212 2020-01-09              45.0      58.0\n",
            "213 2020-01-10              63.0      56.0\n",
            "214 2020-01-11              33.0      47.0\n",
            "215 2020-01-12              44.0      47.0\n",
            "216 2021-01-01              22.0      33.0\n",
            "217 2021-01-02              17.0      28.0\n",
            "218 2021-01-03              30.0      23.0\n",
            "219 2021-01-04              35.0      27.0\n",
            "220 2021-01-05              38.0      34.0\n",
            "221 2021-01-06              40.0      38.0\n",
            "222 2021-01-07              47.0      42.0\n",
            "223 2021-01-08              80.0      56.0\n",
            "224 2021-01-09              73.0      67.0\n",
            "225 2021-01-10              29.0      61.0\n",
            "226 2021-01-11              90.0      64.0\n",
            "227 2021-01-12             100.0      73.0\n",
            "228 2022-01-01             116.0     102.0\n",
            "229 2022-01-02              80.0      99.0\n",
            "230 2022-01-03              88.0      95.0\n",
            "231 2022-01-04              99.0      89.0\n",
            "232 2022-01-05              77.0      88.0\n",
            "233 2022-01-06              60.0      79.0\n",
            "234 2022-01-07               NaN      69.0\n"
          ]
        }
      ]
    },
    {
      "cell_type": "code",
      "source": [
        "import pandas as pd\n",
        "import numpy as np\n",
        "import matplotlib.pyplot as plt\n",
        "\n",
        "plt.plot(yes['Bulan'],yes['Penjualan Sepatu'],label='Penjualan Sepatu')\n",
        "plt.plot(yes['Bulan'],yes['prediksi'],label=' Prediksi')\n",
        "plt.xlabel('Tahun')\n",
        "plt.ylabel('Prediksi data penjualan dengan Moving Average')\n",
        "plt.title('penjualan sepatu (bulan) 2003-2022')\n",
        "plt.grid(True)\n",
        "plt.legend()"
      ],
      "metadata": {
        "colab": {
          "base_uri": "https://localhost:8080/",
          "height": 312
        },
        "id": "PH4ClIIFY26b",
        "outputId": "53623a14-1b38-4a1b-818a-8d78e58eb078"
      },
      "execution_count": null,
      "outputs": [
        {
          "output_type": "execute_result",
          "data": {
            "text/plain": [
              "<matplotlib.legend.Legend at 0x7fcd9509f490>"
            ]
          },
          "metadata": {},
          "execution_count": 30
        },
        {
          "output_type": "display_data",
          "data": {
            "text/plain": [
              "<Figure size 432x288 with 1 Axes>"
            ],
            "image/png": "[encoded data removed]"
          },
          "metadata": {
            "needs_background": "light"
          }
        }
      ]
    }
  ]
}